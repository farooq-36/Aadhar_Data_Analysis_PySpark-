{
  "nbformat": 4,
  "nbformat_minor": 0,
  "metadata": {
    "colab": {
      "name": "Md Farooq_PySpark1_week14_Ds15.ipynb",
      "provenance": []
    },
    "kernelspec": {
      "name": "python3",
      "display_name": "Python 3"
    },
    "language_info": {
      "name": "python"
    }
  },
  "cells": [
    {
      "cell_type": "markdown",
      "source": [
        "# Installing PySpark"
      ],
      "metadata": {
        "id": "v0NeUHFcd6yF"
      }
    },
    {
      "cell_type": "code",
      "execution_count": 2,
      "metadata": {
        "colab": {
          "base_uri": "https://localhost:8080/"
        },
        "id": "HTvegTMrPaP1",
        "outputId": "0abef7ee-71c8-4ace-ba9c-d37f2d27cca2"
      },
      "outputs": [
        {
          "output_type": "stream",
          "name": "stdout",
          "text": [
            "Looking in indexes: https://pypi.org/simple, https://us-python.pkg.dev/colab-wheels/public/simple/\n",
            "Collecting pyspark\n",
            "  Downloading pyspark-3.3.0.tar.gz (281.3 MB)\n",
            "\u001b[K     |████████████████████████████████| 281.3 MB 41 kB/s \n",
            "\u001b[?25hCollecting py4j==0.10.9.5\n",
            "  Downloading py4j-0.10.9.5-py2.py3-none-any.whl (199 kB)\n",
            "\u001b[K     |████████████████████████████████| 199 kB 47.7 MB/s \n",
            "\u001b[?25hBuilding wheels for collected packages: pyspark\n",
            "  Building wheel for pyspark (setup.py) ... \u001b[?25l\u001b[?25hdone\n",
            "  Created wheel for pyspark: filename=pyspark-3.3.0-py2.py3-none-any.whl size=281764026 sha256=e0043a0ca84a310620c63ece8774b05f42057648f2a599b4f842436936c863d4\n",
            "  Stored in directory: /root/.cache/pip/wheels/7a/8e/1b/f73a52650d2e5f337708d9f6a1750d451a7349a867f928b885\n",
            "Successfully built pyspark\n",
            "Installing collected packages: py4j, pyspark\n",
            "Successfully installed py4j-0.10.9.5 pyspark-3.3.0\n"
          ]
        }
      ],
      "source": [
        "pip install pyspark                                                  "
      ]
    },
    {
      "cell_type": "markdown",
      "source": [
        "# Improting Necessary Libraries"
      ],
      "metadata": {
        "id": "JPdtMxTXeNqw"
      }
    },
    {
      "cell_type": "code",
      "source": [
        "#Initializing PySpark\n",
        "from pyspark import SparkContext, SparkConf\n",
        "from pyspark.sql import SparkSession\n",
        "from pyspark.sql import SQLContext\n",
        "from pyspark.sql import functions as F\n",
        "\n",
        "\n",
        "#Spark Config\n",
        "conf = SparkConf().setAppName(\"sample_app\")\n",
        "sc = SparkContext(conf=conf)\n",
        "spark = SparkSession.builder.appName('Test').getOrCreate()\n",
        "spark.sparkContext.getConf().getAll();"
      ],
      "metadata": {
        "id": "QeYqbsEvXgeH"
      },
      "execution_count": 3,
      "outputs": []
    },
    {
      "cell_type": "markdown",
      "source": [
        "# Reading the CSV File"
      ],
      "metadata": {
        "id": "jvNQYsmZeEOc"
      }
    },
    {
      "cell_type": "code",
      "source": [
        "df1 = spark.read.format(\"csv\").option(\"header\",\"true\").option(\"inferschema\",\"True\").load(\"/content/UIDAI-ENR-DETAIL-20170308.csv\") # Reading the dataset fromm the source\n",
        "df1.show()\n",
        "df1.printSchema()                                                                                                                  # printing the schema columns and its data types"
      ],
      "metadata": {
        "id": "AU9rmmn4QHT7"
      },
      "execution_count": null,
      "outputs": []
    },
    {
      "cell_type": "code",
      "source": [
        "df = df1.select([F.col(col).alias(col.replace(' ', '_')) for col in df1.columns]) # Removing the spaces in between the column Names and replacing it with under score ' _ ' \n",
        "df.show()\n",
        "df.printSchema()                                                                  # printing the schema columns and its data types\n",
        "\n",
        "                                                                                  # extracting number of columns from the Dataframe by using spark sql unctions\n",
        "row = df.count()                                                                  # total number of rows in dataframe by using spark sql unctions\n",
        "column = len(df.columns)                                                          # total number of columns in dataframe by using spark sql unctions\n",
        "print(f'Number of Records are: {row}')\n",
        "print(f'Number of Attributes are: {column}')"
      ],
      "metadata": {
        "colab": {
          "base_uri": "https://localhost:8080/"
        },
        "id": "AGUJXaJxc9pp",
        "outputId": "af5b7020-4946-4bb2-c149-00fc00de4637"
      },
      "execution_count": 12,
      "outputs": [
        {
          "output_type": "stream",
          "name": "stdout",
          "text": [
            "+--------------------+--------------------+-------------+----------+------------+--------+------+---+-----------------+------------------+-------------------------+---------------------------------+\n",
            "|           Registrar|    Enrolment_Agency|        State|  District|Sub_District|Pin_Code|Gender|Age|Aadhaar_generated|Enrolment_Rejected|Residents_providing_email|Residents_providing_mobile_number|\n",
            "+--------------------+--------------------+-------------+----------+------------+--------+------+---+-----------------+------------------+-------------------------+---------------------------------+\n",
            "|      Allahabad Bank|A-Onerealtors Pvt...|Uttar Pradesh| Allahabad|        Meja|  212303|     F|  7|                1|                 0|                        0|                                1|\n",
            "|      Allahabad Bank|Asha Security Gua...|Uttar Pradesh| Sonbhadra| Robertsganj|  231213|     M|  8|                1|                 0|                        0|                                0|\n",
            "|      Allahabad Bank|   SGS INDIA PVT LTD|Uttar Pradesh| Sultanpur|   Sultanpur|  227812|     F| 13|                1|                 0|                        0|                                1|\n",
            "|      Allahabad Bank|Sri Ramraja Sarka...|Uttar Pradesh|    Shamli|      Shamli|  247775|     M|  6|                1|                 0|                        0|                                1|\n",
            "|      Allahabad Bank|  Transmoovers India|Uttar Pradesh| Gorakhpur|    Sahjanwa|  273001|     M|  8|                1|                 0|                        0|                                1|\n",
            "|      Allahabad Bank|  Transmoovers India|Uttar Pradesh|  Varanasi|      Pindra|  221101|     M| 14|                1|                 0|                        0|                                1|\n",
            "|      Allahabad Bank|  Transmoovers India|Uttar Pradesh|  Varanasi|    Varanasi|  221001|     M|  9|                1|                 0|                        0|                                1|\n",
            "|      Allahabad Bank|  Transmoovers India|Uttar Pradesh|  Varanasi|    Varanasi|  221002|     M|  4|                1|                 0|                        0|                                1|\n",
            "|      Allahabad Bank|  Transmoovers India|Uttar Pradesh|  Varanasi|    Varanasi|  221002|     M| 10|                0|                 1|                        0|                                1|\n",
            "|      Allahabad Bank|  Transmoovers India|Uttar Pradesh|  Varanasi|    Varanasi|  221002|     M| 19|                1|                 0|                        0|                                1|\n",
            "|      Allahabad Bank|Vedavaag Systems ...|Uttar Pradesh|Bara Banki|   Nawabganj|  225301|     M|  8|                1|                 0|                        0|                                0|\n",
            "|Atalji Janasnehi ...|Atalji Janasnehi ...|        Assam|  Marigaon|   Bhuragaon|  782121|     M| 22|                1|                 0|                        0|                                1|\n",
            "|Atalji Janasnehi ...|Atalji Janasnehi ...|        Bihar| Gopalganj|  Vijayeepur|  841508|     M| 26|                1|                 0|                        0|                                1|\n",
            "|Atalji Janasnehi ...|Atalji Janasnehi ...|    Karnataka|  Bagalkot|      Badami|  587114|     M| 27|                1|                 0|                        0|                                1|\n",
            "|Atalji Janasnehi ...|Atalji Janasnehi ...|    Karnataka|  Bagalkot|      Badami|  587155|     F|  2|                1|                 0|                        0|                                1|\n",
            "|Atalji Janasnehi ...|Atalji Janasnehi ...|    Karnataka|  Bagalkot|      Badami|  587155|     M| 67|                1|                 0|                        0|                                1|\n",
            "|Atalji Janasnehi ...|Atalji Janasnehi ...|    Karnataka|  Bagalkot|      Badami|  587201|     F| 32|                1|                 0|                        0|                                1|\n",
            "|Atalji Janasnehi ...|Atalji Janasnehi ...|    Karnataka|  Bagalkot|      Badami|  587203|     M| 27|                1|                 0|                        0|                                1|\n",
            "|Atalji Janasnehi ...|Atalji Janasnehi ...|    Karnataka|  Bagalkot|      Badami|  587206|     F| 40|                1|                 0|                        0|                                0|\n",
            "|Atalji Janasnehi ...|Atalji Janasnehi ...|    Karnataka|  Bagalkot|      Badami|  587206|     M| 28|                1|                 0|                        0|                                1|\n",
            "+--------------------+--------------------+-------------+----------+------------+--------+------+---+-----------------+------------------+-------------------------+---------------------------------+\n",
            "only showing top 20 rows\n",
            "\n",
            "root\n",
            " |-- Registrar: string (nullable = true)\n",
            " |-- Enrolment_Agency: string (nullable = true)\n",
            " |-- State: string (nullable = true)\n",
            " |-- District: string (nullable = true)\n",
            " |-- Sub_District: string (nullable = true)\n",
            " |-- Pin_Code: string (nullable = true)\n",
            " |-- Gender: string (nullable = true)\n",
            " |-- Age: integer (nullable = true)\n",
            " |-- Aadhaar_generated: integer (nullable = true)\n",
            " |-- Enrolment_Rejected: integer (nullable = true)\n",
            " |-- Residents_providing_email: integer (nullable = true)\n",
            " |-- Residents_providing_mobile_number: integer (nullable = true)\n",
            "\n",
            "Number of Records are: 440818\n",
            "Number of Attributes are: 12\n"
          ]
        }
      ]
    },
    {
      "cell_type": "code",
      "source": [
        "col = df.columns                                                                 # getting the list of column names\n",
        "print('List of column names: ')                                                  # Printing columns names\n",
        "rdd1 = sc.parallelize(col)                                                       # stoting the columns in the rdd\n",
        "rdd1.collect()                                         "
      ],
      "metadata": {
        "colab": {
          "base_uri": "https://localhost:8080/"
        },
        "id": "SVB8Nr1ihp7M",
        "outputId": "9287e9da-6a5a-4c7a-cffa-83f87733c05d"
      },
      "execution_count": 19,
      "outputs": [
        {
          "output_type": "stream",
          "name": "stdout",
          "text": [
            "List of column names: \n"
          ]
        },
        {
          "output_type": "execute_result",
          "data": {
            "text/plain": [
              "['Registrar',\n",
              " 'Enrolment_Agency',\n",
              " 'State',\n",
              " 'District',\n",
              " 'Sub_District',\n",
              " 'Pin_Code',\n",
              " 'Gender',\n",
              " 'Age',\n",
              " 'Aadhaar_generated',\n",
              " 'Enrolment_Rejected',\n",
              " 'Residents_providing_email',\n",
              " 'Residents_providing_mobile_number']"
            ]
          },
          "metadata": {},
          "execution_count": 19
        }
      ]
    },
    {
      "cell_type": "markdown",
      "source": [
        "# Create a dataframe with Total Aadhaar's generated for each state"
      ],
      "metadata": {
        "id": "HTh2OUxmfAeI"
      }
    },
    {
      "cell_type": "code",
      "source": [
        "# Uisng filter function we can select the column and it records,grouping the records by states and counting only aadhar geneated values and arranging them in decscending orrder.\n",
        "Aadhar_count = df.filter(col(\"Aadhaar_generated\") == 1).groupBy(\"State\").agg(F.count(\"Aadhaar_generated\").alias(\"Toatal_aadhar\")).sort(F.desc(\"Toatal_aadhar\"))\n",
        "print(\"Total Aadhaar's generated for each state \")\n",
        "Aadhar_count.show(20,truncate=False)"
      ],
      "metadata": {
        "colab": {
          "base_uri": "https://localhost:8080/"
        },
        "id": "GQp0NCzCnzzq",
        "outputId": "91c1c0dc-34ad-402f-e3e4-74a13e377f82"
      },
      "execution_count": 45,
      "outputs": [
        {
          "output_type": "stream",
          "name": "stdout",
          "text": [
            "Total Aadhaar's generated for each state \n",
            "+--------------+-------------+\n",
            "|State         |Toatal_aadhar|\n",
            "+--------------+-------------+\n",
            "|Bihar         |57652        |\n",
            "|Uttar Pradesh |52652        |\n",
            "|West Bengal   |43832        |\n",
            "|Madhya Pradesh|27491        |\n",
            "|Rajasthan     |21304        |\n",
            "|Gujarat       |18358        |\n",
            "|Tamil Nadu    |16464        |\n",
            "|Maharashtra   |15234        |\n",
            "|Karnataka     |12167        |\n",
            "|Kerala        |9955         |\n",
            "|Odisha        |9105         |\n",
            "|Delhi         |5816         |\n",
            "|Jharkhand     |5798         |\n",
            "|Punjab        |4944         |\n",
            "|Uttarakhand   |4341         |\n",
            "|Haryana       |3936         |\n",
            "|Andhra Pradesh|3519         |\n",
            "|Chhattisgarh  |3409         |\n",
            "|Telangana     |2953         |\n",
            "|Assam         |2742         |\n",
            "+--------------+-------------+\n",
            "only showing top 20 rows\n",
            "\n"
          ]
        }
      ]
    },
    {
      "cell_type": "markdown",
      "source": [
        "# Create a dataframe with the Total Aadhaar's generated by each enrollment agency"
      ],
      "metadata": {
        "id": "TZik237hxPce"
      }
    },
    {
      "cell_type": "code",
      "source": [
        "# Uisng filter function we can select the column and it records,grouping the records by Enrolment_Agency  and counting only aadhar geneated values and arranging them in decscending orrder.\n",
        "Enrollment_agencys = df.filter(col(\"Aadhaar_generated\") == 1).groupBy(\"Enrolment_Agency\").agg(F.count(\"Aadhaar_generated\").alias(\"Total_aadhar\")).sort(F.desc(\"Total_aadhar\"))\n",
        "Enrollment_agencys.show(10,truncate=False)"
      ],
      "metadata": {
        "colab": {
          "base_uri": "https://localhost:8080/"
        },
        "id": "V_bD7N2NyAnM",
        "outputId": "08f55ecf-647b-4076-cf7b-82894dbfeea8"
      },
      "execution_count": 39,
      "outputs": [
        {
          "output_type": "stream",
          "name": "stdout",
          "text": [
            "+----------------------------------------+------------+\n",
            "|Enrolment_Agency                        |Total_aadhar|\n",
            "+----------------------------------------+------------+\n",
            "|CSC SPV                                 |72155       |\n",
            "|SRM Education And Social Welfare Society|13431       |\n",
            "|SREI INFRASTRUCTURE FINANCES L          |12929       |\n",
            "|AKSH OPTIFIBRE LIMITED                  |9828        |\n",
            "|Akshaya                                 |9624        |\n",
            "|TAMILNADU ARASU CABLE TV CORPORATION LTD|9624        |\n",
            "|Rajcomp Info Services Ltd               |8752        |\n",
            "|MPOnline Limited                        |7554        |\n",
            "|CMS Computers Ltd                       |6895        |\n",
            "|IAP COMPANY Pvt. Ltd                    |5765        |\n",
            "+----------------------------------------+------------+\n",
            "only showing top 10 rows\n",
            "\n"
          ]
        }
      ]
    },
    {
      "cell_type": "markdown",
      "source": [
        "# Create dataframe with the top 10 districts with maximum Aadhaar's generated for both Male and females?"
      ],
      "metadata": {
        "id": "1YldgcAs1ALs"
      }
    },
    {
      "cell_type": "code",
      "source": [
        "# Males\n",
        "# # Uisng filter function we can select the column and it records,grouping the records by District and counting only aadhar geneated values and arranging them in decscending orrder\n",
        "\n",
        "Males = df.filter(\"Gender == 'M'\").groupBy(\"District\").agg(F.count(\"Aadhaar_generated\").alias(\"Total_aadhar\")).sort(F.desc(\"Total_aadhar\"))\n",
        "print('Top 10 districts with maximum Aadhaar generated for Male : ')\n",
        "Males.show(10,truncate=False)\n",
        "\n",
        "# Females\n",
        "# Uisng filter function we can select the column and it records,grouping the records by District and counting only aadhar geneated values and arranging them in decscending orrder.\n",
        "\n",
        "Females=df.filter((\"Gender == 'F'\")).groupBy(\"District\").agg(F.count(\"Aadhaar_generated\").alias(\"Total_aadhar\")).sort(F.desc(\"Total_aadhar\"))\n",
        "print('Top 10 districts with maximum Aadhaar generated for Female : ')\n",
        "Females.show(10,truncate=False)\n"
      ],
      "metadata": {
        "colab": {
          "base_uri": "https://localhost:8080/"
        },
        "id": "Ui7HbhIf0_k4",
        "outputId": "da1a5285-ba55-4651-bfab-dfc41c024026"
      },
      "execution_count": 43,
      "outputs": [
        {
          "output_type": "stream",
          "name": "stdout",
          "text": [
            "Top 10 districts with maximum Aadhaar generated for Male : \n",
            "+-----------------+------------+\n",
            "|District         |Total_aadhar|\n",
            "+-----------------+------------+\n",
            "|Barddhaman       |4276        |\n",
            "|North 24 Parganas|3772        |\n",
            "|South 24 Parganas|3630        |\n",
            "|Bhagalpur        |3543        |\n",
            "|Patna            |3485        |\n",
            "|Nadia            |3460        |\n",
            "|Murshidabad      |3018        |\n",
            "|Gaya             |2915        |\n",
            "|Kolkata          |2678        |\n",
            "|Katihar          |2622        |\n",
            "+-----------------+------------+\n",
            "only showing top 10 rows\n",
            "\n",
            "Top 10 districts with maximum Aadhaar generated for Female : \n",
            "+-----------------+------------+\n",
            "|District         |Total_aadhar|\n",
            "+-----------------+------------+\n",
            "|North 24 Parganas|3121        |\n",
            "|Barddhaman       |2859        |\n",
            "|South 24 Parganas|2448        |\n",
            "|Patna            |1766        |\n",
            "|Bhagalpur        |1744        |\n",
            "|Nadia            |1673        |\n",
            "|Jalpaiguri       |1509        |\n",
            "|Gaya             |1487        |\n",
            "|Murshidabad      |1399        |\n",
            "|Howrah           |1393        |\n",
            "+-----------------+------------+\n",
            "only showing top 10 rows\n",
            "\n"
          ]
        }
      ]
    },
    {
      "cell_type": "markdown",
      "source": [
        "# Create a dataframe with Total Aadhaar generated for the top 10 least states"
      ],
      "metadata": {
        "id": "icFBypco3z75"
      }
    },
    {
      "cell_type": "code",
      "source": [
        "# Uisng filter function we can select the column and it records,grouping the records by states and counting only aadhar geneated values and arranging them in decscending orrder.\n",
        "Aadhar_count = df.filter(col(\"Aadhaar_generated\") == 1).groupBy(\"State\").agg(F.count(\"Aadhaar_generated\").alias(\"Toatal_aadhar\")).sort(F.asc(\"Toatal_aadhar\"))\n",
        "print(\"Total Aadhaar's generated for each state \")\n",
        "Aadhar_count.show(10,truncate=False)"
      ],
      "metadata": {
        "colab": {
          "base_uri": "https://localhost:8080/"
        },
        "id": "mqWGpUc-3zna",
        "outputId": "9a8b5a43-b975-4cf6-d418-8e37bf8e94da"
      },
      "execution_count": 44,
      "outputs": [
        {
          "output_type": "stream",
          "name": "stdout",
          "text": [
            "Total Aadhaar's generated for each state \n",
            "+---------------------------+-------------+\n",
            "|State                      |Toatal_aadhar|\n",
            "+---------------------------+-------------+\n",
            "|Lakshadweep                |4            |\n",
            "|Andaman and Nicobar Islands|5            |\n",
            "|Others                     |12           |\n",
            "|Sikkim                     |43           |\n",
            "|Puducherry                 |69           |\n",
            "|Dadra and Nagar Haveli     |85           |\n",
            "|Daman and Diu              |89           |\n",
            "|Chandigarh                 |162          |\n",
            "|Meghalaya                  |237          |\n",
            "|Nagaland                   |289          |\n",
            "+---------------------------+-------------+\n",
            "only showing top 10 rows\n",
            "\n"
          ]
        }
      ]
    },
    {
      "cell_type": "markdown",
      "source": [
        "# For which age, most Aadhar cards have declined?"
      ],
      "metadata": {
        "id": "aDpdb2Ii4Z1U"
      }
    },
    {
      "cell_type": "code",
      "source": [
        "# Uisng filter function we can select the column and it records,grouping the records by states and counting only aadhar geneated values and arranging them in decscending orrder.\n",
        "Age = df.filter(col(\"Aadhaar_generated\") == 0).groupBy(\"Age\").agg(F.count(\"Aadhaar_generated\").alias(\"Toatal_aadhar_Decline\")).sort(F.desc(\"Toatal_aadhar_Decline\"))\n",
        "print('Most Aadharcard generations decline in this age Categoery:  ')\n",
        "Age.show(10,truncate=False)"
      ],
      "metadata": {
        "colab": {
          "base_uri": "https://localhost:8080/"
        },
        "id": "pMdtcKX14Ye9",
        "outputId": "f87ca773-dbf5-40fc-926d-f84cb8f31c9e"
      },
      "execution_count": 52,
      "outputs": [
        {
          "output_type": "stream",
          "name": "stdout",
          "text": [
            "Most Aadharcard generations decline in this age Categoery:  \n",
            "+---+---------------------+\n",
            "|Age|Toatal_aadhar_Decline|\n",
            "+---+---------------------+\n",
            "|4  |1729                 |\n",
            "|3  |1492                 |\n",
            "|2  |1389                 |\n",
            "|1  |1294                 |\n",
            "|0  |1087                 |\n",
            "|5  |863                  |\n",
            "|6  |794                  |\n",
            "|7  |724                  |\n",
            "|8  |612                  |\n",
            "|9  |529                  |\n",
            "+---+---------------------+\n",
            "only showing top 10 rows\n",
            "\n"
          ]
        }
      ]
    }
  ]
}